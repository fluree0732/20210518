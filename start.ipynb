{
 "cells": [
  {
   "cell_type": "code",
   "execution_count": 1,
   "id": "7330601e-ca6f-4458-a5b3-5cb9200919be",
   "metadata": {},
   "outputs": [
    {
     "name": "stdout",
     "output_type": "stream",
     "text": [
      "[1, 3, 4, 5]\n",
      "{'name': '가나다', 'age': 34}\n",
      "(1, 2, 4, 7, 9)\n",
      "{1, 2, 3}\n"
     ]
    }
   ],
   "source": [
    "a = [1, 3, 4, 5]  #리스트 = 배열\n",
    "b = {\"name\":\"가나다\", \"age\":34} #딕셔너리 = JSON HashMap<Key, Value>\n",
    "c = (1, 2, 4, 7, 9) #튜플 = 값을 변경할 수 없음\n",
    "d = {1, 2, 2, 3}  #셋(집합) 중복제거\n",
    "\n",
    "print(a)\n",
    "print(b)\n",
    "print(c)\n",
    "print(d)"
   ]
  },
  {
   "cell_type": "code",
   "execution_count": 3,
   "id": "361d4ca9-bd1e-47b7-8a0c-9edee20da8f8",
   "metadata": {},
   "outputs": [
    {
     "name": "stdout",
     "output_type": "stream",
     "text": [
      "[1, 2, 3, 4, 5]\n",
      "{'name': '가나다', 'age': 34}\n",
      "(1, 2, 4, 7, 9)\n",
      "{1, 2, 5}\n"
     ]
    }
   ],
   "source": [
    "a = [1,2,3,4,5] #리스트 = 배열\n",
    "b = {\"name\":\"가나다\", \"age\":34}  #딕셔너리 = JSON HashMap<Key, Value>\n",
    "c = (1,2,4,7,9) #튜플 = 값을 변경할 수 없음\n",
    "d = {1,2,2,2,5} #셋(집합) 중복제거\n",
    "\n",
    "print(a)\n",
    "print(b)\n",
    "print(c)\n",
    "print(d)"
   ]
  },
  {
   "cell_type": "code",
   "execution_count": null,
   "id": "4b0277ab-1f6f-4867-928a-1ab0fb16649c",
   "metadata": {},
   "outputs": [],
   "source": [
    "a = [1,2,3,4,5]\n",
    "b = {\"name\":\"가나다\", \"age\"}"
   ]
  },
  {
   "cell_type": "code",
   "execution_count": 31,
   "id": "4761d847-3a3b-41e4-8c98-4ab26c6bcf61",
   "metadata": {},
   "outputs": [
    {
     "name": "stdout",
     "output_type": "stream",
     "text": [
      "<class 'dict'>\n",
      "가\n",
      "가\n"
     ]
    }
   ],
   "source": [
    "a = {\"data\": \"abc\", \"member\":[ {\"name\":\"가\",\"age\":4}, {\"name\":\"나\",\"age\":41} ]}\n",
    "\n",
    "b = a[\"member\"] #리스트\n",
    "c = b[0] #딕셔너리\n",
    "\n",
    "#이름 \"가\"와 \"나\"를 출력하세요.\n",
    "print(type(a))\n",
    "print(c[\"name\"])\n",
    "\n",
    "print(a[\"member\"][0][\"name\"])"
   ]
  },
  {
   "cell_type": "code",
   "execution_count": 25,
   "id": "4233c4db-3f31-42a2-aef6-ff0aaa662b40",
   "metadata": {},
   "outputs": [
    {
     "data": {
      "text/plain": [
       "{'name': '가', 'age': 4}"
      ]
     },
     "execution_count": 25,
     "metadata": {},
     "output_type": "execute_result"
    }
   ],
   "source": [
    "b[0]"
   ]
  },
  {
   "cell_type": "code",
   "execution_count": 34,
   "id": "de97f885-1161-46b6-8d66-337776e025a8",
   "metadata": {},
   "outputs": [
    {
     "data": {
      "text/plain": [
       "{'name': '나', 'age': 41}"
      ]
     },
     "execution_count": 34,
     "metadata": {},
     "output_type": "execute_result"
    }
   ],
   "source": [
    "b[1]"
   ]
  }
 ],
 "metadata": {
  "kernelspec": {
   "display_name": "Python 3",
   "language": "python",
   "name": "python3"
  },
  "language_info": {
   "codemirror_mode": {
    "name": "ipython",
    "version": 3
   },
   "file_extension": ".py",
   "mimetype": "text/x-python",
   "name": "python",
   "nbconvert_exporter": "python",
   "pygments_lexer": "ipython3",
   "version": "3.8.8"
  }
 },
 "nbformat": 4,
 "nbformat_minor": 5
}
