{
 "cells": [
  {
   "cell_type": "code",
   "execution_count": 2,
   "id": "6375d4ce-0a16-4798-9c69-43f915d3d475",
   "metadata": {},
   "outputs": [
    {
     "name": "stdout",
     "output_type": "stream",
     "text": [
      "Requirement already satisfied: pymongo in c:\\users\\admin\\anaconda3\\lib\\site-packages (3.11.4)\n"
     ]
    }
   ],
   "source": [
    "# mongodbf를 사용하기 위한 라이브러리 설치하기\n",
    "! pip install pymongo"
   ]
  },
  {
   "cell_type": "code",
   "execution_count": 5,
   "id": "8b09124a-b7a7-4563-92d3-af8651c865a3",
   "metadata": {},
   "outputs": [],
   "source": [
    "import pymongo\n",
    "\n",
    "username = \"id104\"\n",
    "password = \"pw104\"\n",
    "host = \"1.234.5.158\"\n",
    "port = 37017\n",
    "dbname = \"id104\"\n",
    "\n",
    "# mongodb 접속\n",
    "conn= pymongo.MongoClient(f'mongodb://{username}:{password}@{host}:{port}/{dbname}')\n",
    "\n",
    "db = conn.get_database(dbname) #db선택\n",
    "collection = db.get_collection(\"member\") #collection == table과 비슷함\n",
    "dic1 = {\"id\":\"pyid\", \"pw\":\"aaa\",\"name\":'abc', \"age\":33} #딕셔너리 생성\n",
    "\n",
    "# mongodb에 추가\n",
    "collection.insert_one(dic1)\n",
    "\n",
    "conn.close()"
   ]
  }
 ],
 "metadata": {
  "kernelspec": {
   "display_name": "Python 3",
   "language": "python",
   "name": "python3"
  },
  "language_info": {
   "codemirror_mode": {
    "name": "ipython",
    "version": 3
   },
   "file_extension": ".py",
   "mimetype": "text/x-python",
   "name": "python",
   "nbconvert_exporter": "python",
   "pygments_lexer": "ipython3",
   "version": "3.8.8"
  }
 },
 "nbformat": 4,
 "nbformat_minor": 5
}
