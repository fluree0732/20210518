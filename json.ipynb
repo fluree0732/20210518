{
 "cells": [
  {
   "cell_type": "code",
   "execution_count": 3,
   "id": "4ec5df4f-d811-4a4d-b44b-fc7a5e35def7",
   "metadata": {},
   "outputs": [
    {
     "name": "stdout",
     "output_type": "stream",
     "text": [
      "[1, 3, 4, 5]\n",
      "{'name': '가나다', 'age': 34}\n",
      "(1, 2, 4, 7, 9)\n",
      "{1, 2, 3}\n"
     ]
    }
   ],
   "source": [
    "a = [1, 3, 4, 5]  #리스트 = 배열\n",
    "b = {\"name\":\"가나다\", \"age\":34} #딕셔너리 = JSON HashMap<Key, Value>\n",
    "c = (1, 2, 4, 7, 9) #튜플 = 값을 변경할 수 없음\n",
    "d = {1, 2, 2, 3}  #셋(집합) 중복제거\n",
    "\n",
    "print(a)\n",
    "print(b)\n",
    "print(c)\n",
    "print(d)"
   ]
  },
  {
   "cell_type": "code",
   "execution_count": 5,
   "id": "6d346a58-a194-42b1-9e76-6197a197d145",
   "metadata": {},
   "outputs": [
    {
     "name": "stdout",
     "output_type": "stream",
     "text": [
      "<class 'list'>\n",
      "<class 'tuple'>\n"
     ]
    }
   ],
   "source": [
    "a = [ (1, 2, 3), (4, 5, 6), (7, 8, 9), (10, 11, 12) ]\n",
    "print(type(a))\n",
    "print(type(a[2]))"
   ]
  },
  {
   "cell_type": "code",
   "execution_count": 7,
   "id": "808b06bf-11d7-487b-831b-720edc69c742",
   "metadata": {},
   "outputs": [
    {
     "name": "stdout",
     "output_type": "stream",
     "text": [
      "<class 'list'>\n",
      "<class 'dict'>\n",
      "4\n"
     ]
    }
   ],
   "source": [
    "a = [ {\"name\":\"가\",\"age\":4}, {\"name\":\"가\",\"age\":4} ]\n",
    "print(type(a))\n",
    "print(type(a[1]))\n",
    "print(a[1][\"age\"]) #41"
   ]
  },
  {
   "cell_type": "code",
   "execution_count": 9,
   "id": "1cfa169e-d961-459f-9f6d-f67e4a05805c",
   "metadata": {},
   "outputs": [
    {
     "name": "stdout",
     "output_type": "stream",
     "text": [
      "<class 'dict'>\n",
      "가\n",
      "가\n"
     ]
    }
   ],
   "source": [
    "a = {\"data\": \"abc\", \"member\":[ {\"name\":\"가\",\"age\":4}, {\"name\":\"가1\",\"age\":41} ]}\n",
    "b = a[\"member\"] #리스트\n",
    "c = b[0]  #딕셔너리\n",
    "\n",
    "# 이름 \"가\"와 \"가1\"을 출력하세요.\n",
    "print(type(a))\n",
    "print(c[\"name\"])\n",
    "\n",
    "print(a[\"member\"][0][\"name\"])"
   ]
  },
  {
   "cell_type": "code",
   "execution_count": 11,
   "id": "6c019c73-a5ba-410e-844f-e500478c4b16",
   "metadata": {},
   "outputs": [],
   "source": [
    "# 3. 환경변수에 PATH 추가하기\n",
    "import os\n",
    "# path = 'C:\\\\instantclient_19_10'  #윈도우 방식의 구조\n",
    "# path = 'C:/instantclient_19_10'   #리눅스 계열의 방식\n",
    "path = r'C:\\instantclient_19_10'    #raw로 하면 \\\n",
    "    \n",
    "os.environ[\"PATH\"] = path + \";\" + os.environ[\"PATH\"]\n",
    "# os.environ[\"PATH\"]"
   ]
  },
  {
   "cell_type": "code",
   "execution_count": 13,
   "id": "aca9dc26-9a05-40d9-8430-0c526cd60fe3",
   "metadata": {},
   "outputs": [
    {
     "data": {
      "text/plain": [
       "<cx_Oracle.Connection to id100@1.234.5.158:11521/xe>"
      ]
     },
     "execution_count": 13,
     "metadata": {},
     "output_type": "execute_result"
    }
   ],
   "source": [
    "import cx_Oracle as ora  # 라이브러리 추가한후 ora로 변경\n",
    "# 아이디/암호@서버주소:포트번호/SID\n",
    "conn = ora.connect('id100/pw100@1.234.5.158:11521/xe')\n",
    "conn"
   ]
  },
  {
   "cell_type": "code",
   "execution_count": 25,
   "id": "7e051083-2ea4-4acc-8436-c4ed2eebab95",
   "metadata": {},
   "outputs": [
    {
     "ename": "IntegrityError",
     "evalue": "ORA-00001: unique constraint (ID100.BOARDTBL_PK) violated",
     "output_type": "error",
     "traceback": [
      "\u001b[1;31m---------------------------------------------------------------------------\u001b[0m",
      "\u001b[1;31mIntegrityError\u001b[0m                            Traceback (most recent call last)",
      "\u001b[1;32m<ipython-input-25-9d182c9a7ec7>\u001b[0m in \u001b[0;36m<module>\u001b[1;34m\u001b[0m\n\u001b[0;32m      8\u001b[0m \u001b[1;33m\u001b[0m\u001b[0m\n\u001b[0;32m      9\u001b[0m \u001b[0marr\u001b[0m \u001b[1;33m=\u001b[0m \u001b[1;33m[\u001b[0m\u001b[1;36m44\u001b[0m\u001b[1;33m,\u001b[0m \u001b[1;34m'제목'\u001b[0m\u001b[1;33m,\u001b[0m  \u001b[1;34m'내용'\u001b[0m\u001b[1;33m,\u001b[0m \u001b[1;36m1\u001b[0m\u001b[1;33m,\u001b[0m \u001b[1;34m'작성자'\u001b[0m\u001b[1;33m]\u001b[0m\u001b[1;33m\u001b[0m\u001b[1;33m\u001b[0m\u001b[0m\n\u001b[1;32m---> 10\u001b[1;33m \u001b[0mcursor\u001b[0m\u001b[1;33m.\u001b[0m\u001b[0mexecute\u001b[0m\u001b[1;33m(\u001b[0m\u001b[0msql\u001b[0m\u001b[1;33m,\u001b[0m \u001b[0marr\u001b[0m\u001b[1;33m)\u001b[0m\u001b[1;33m\u001b[0m\u001b[1;33m\u001b[0m\u001b[0m\n\u001b[0m\u001b[0;32m     11\u001b[0m \u001b[0mconn\u001b[0m\u001b[1;33m.\u001b[0m\u001b[0mcommit\u001b[0m\u001b[1;33m(\u001b[0m\u001b[1;33m)\u001b[0m\u001b[1;33m\u001b[0m\u001b[1;33m\u001b[0m\u001b[0m\n",
      "\u001b[1;31mIntegrityError\u001b[0m: ORA-00001: unique constraint (ID100.BOARDTBL_PK) violated"
     ]
    }
   ],
   "source": [
    "# 오라클 DB에 추가하기\n",
    "# INSERT, UPDATE, DELETE 수행\n",
    "cursor = conn.cursor()\n",
    "sql = \"\"\"\n",
    "        INSERT INTO BOARDTBL(BRDNO, BRDTITLE, BRDCONTENT, BRDHIT, BRDWRITER, BRDDATE)\n",
    "        VALUES( :1, :2, :3, :4, :5, CURRENT_DATE)\n",
    "      \"\"\"\n",
    "\n",
    "arr = [44, '제목',  '내용', 1, '작성자']\n",
    "cursor.execute(sql, arr)\n",
    "conn.commit()"
   ]
  },
  {
   "cell_type": "code",
   "execution_count": 26,
   "id": "bed3c868-a357-436f-a3a9-7d65444c3b23",
   "metadata": {},
   "outputs": [
    {
     "ename": "IntegrityError",
     "evalue": "ORA-00001: unique constraint (ID100.BOARDTBL_PK) violated",
     "output_type": "error",
     "traceback": [
      "\u001b[1;31m---------------------------------------------------------------------------\u001b[0m",
      "\u001b[1;31mIntegrityError\u001b[0m                            Traceback (most recent call last)",
      "\u001b[1;32m<ipython-input-26-9119423250cd>\u001b[0m in \u001b[0;36m<module>\u001b[1;34m\u001b[0m\n\u001b[0;32m      7\u001b[0m         \u001b[0mVALUES\u001b[0m\u001b[1;33m(\u001b[0m \u001b[1;33m:\u001b[0m\u001b[0mno\u001b[0m\u001b[1;33m,\u001b[0m \u001b[1;33m:\u001b[0m\u001b[0mti\u001b[0m\u001b[1;33m,\u001b[0m \u001b[1;33m:\u001b[0m\u001b[0mco\u001b[0m\u001b[1;33m,\u001b[0m \u001b[1;33m:\u001b[0m\u001b[0mhi\u001b[0m\u001b[1;33m,\u001b[0m \u001b[1;33m:\u001b[0m\u001b[0mwr\u001b[0m\u001b[1;33m,\u001b[0m \u001b[0mCURRENT_DATE\u001b[0m\u001b[1;33m)\u001b[0m\u001b[1;33m\u001b[0m\u001b[1;33m\u001b[0m\u001b[0m\n\u001b[0;32m      8\u001b[0m       \"\"\"\n\u001b[1;32m----> 9\u001b[1;33m \u001b[0mcursor\u001b[0m\u001b[1;33m.\u001b[0m\u001b[0mexecute\u001b[0m\u001b[1;33m(\u001b[0m\u001b[0msql\u001b[0m\u001b[1;33m,\u001b[0m \u001b[0mno\u001b[0m\u001b[1;33m=\u001b[0m\u001b[1;36m47\u001b[0m\u001b[1;33m,\u001b[0m \u001b[0mti\u001b[0m\u001b[1;33m=\u001b[0m\u001b[1;34m'제목1'\u001b[0m\u001b[1;33m,\u001b[0m \u001b[0mco\u001b[0m\u001b[1;33m=\u001b[0m\u001b[1;34m'내용2'\u001b[0m\u001b[1;33m,\u001b[0m \u001b[0mhi\u001b[0m\u001b[1;33m=\u001b[0m\u001b[1;36m3\u001b[0m\u001b[1;33m,\u001b[0m \u001b[0mwr\u001b[0m\u001b[1;33m=\u001b[0m\u001b[1;34m'작성자3'\u001b[0m\u001b[1;33m)\u001b[0m\u001b[1;33m\u001b[0m\u001b[1;33m\u001b[0m\u001b[0m\n\u001b[0m\u001b[0;32m     10\u001b[0m \u001b[0mconn\u001b[0m\u001b[1;33m.\u001b[0m\u001b[0mcommit\u001b[0m\u001b[1;33m(\u001b[0m\u001b[1;33m)\u001b[0m\u001b[1;33m\u001b[0m\u001b[1;33m\u001b[0m\u001b[0m\n",
      "\u001b[1;31mIntegrityError\u001b[0m: ORA-00001: unique constraint (ID100.BOARDTBL_PK) violated"
     ]
    }
   ],
   "source": [
    "# INSERT, UPDATE, DELETE 수행\n",
    "# UPDATE 테이블명 SET  컬럼명=변경값, 컬럼명=변경값 WHERE 컬럼명=조건\n",
    "# DELETE FROM 테이블명 WHERE 컬럼명=조건\n",
    "cursor = conn.cursor()\n",
    "sql = \"\"\"\n",
    "        INSERT INTO BOARDTBL(BRDNO, BRDTITLE, BRDCONTENT, BRDHIT, BRDWRITER, BRDDATE)\n",
    "        VALUES( :no, :ti, :co, :hi, :wr, CURRENT_DATE)\n",
    "      \"\"\"\n",
    "cursor.execute(sql, no=47, ti='제목1', co='내용2', hi=3, wr='작성자3')\n",
    "conn.commit()"
   ]
  },
  {
   "cell_type": "code",
   "execution_count": 34,
   "id": "cebaabba-c261-465e-b70c-1fe7080a4dfe",
   "metadata": {},
   "outputs": [
    {
     "name": "stdout",
     "output_type": "stream",
     "text": [
      "[{\"ret\":\"y1\",\"data\":\"123\"},{\"ret\":\"y2\",\"data\":\"234\"}]\n",
      "<class 'str'>\n",
      "[{'ret': 'y1', 'data': '123'}, {'ret': 'y2', 'data': '234'}]\n",
      "<class 'list'>\n"
     ]
    }
   ],
   "source": [
    "import requests\n",
    "import json\n",
    "\n",
    "url = \"http://ihongss.com/json/exam2.json\"\n",
    "data = requests.get(url).text\n",
    "print(data)\n",
    "print(type(data))\n",
    "\n",
    "#str -> list\n",
    "data1 = json.loads(data)\n",
    "print(data1)\n",
    "print(type(data1))"
   ]
  },
  {
   "cell_type": "code",
   "execution_count": 29,
   "id": "50bd0f69-d659-40a2-8c49-89703684d68f",
   "metadata": {},
   "outputs": [
    {
     "name": "stdout",
     "output_type": "stream",
     "text": [
      "{'ret': 'y1', 'data': '123'} <class 'dict'>\n",
      "{'ret': 'y2', 'data': '234'} <class 'dict'>\n"
     ]
    },
    {
     "data": {
      "text/plain": [
       "[['y1', 123], ['y2', 234]]"
      ]
     },
     "execution_count": 29,
     "metadata": {},
     "output_type": "execute_result"
    }
   ],
   "source": [
    "# [{'ret': 'y1', 'data': '123'}, {'ret': 'y2', 'data': '234'}]\n",
    "# [['y1', 123], ['y2', 234]]\n",
    "\n",
    "data2 = []\n",
    "for i in data1: #2번 회전\n",
    "    print(i, type(i))\n",
    "    # [ 1, 2 ]\n",
    "    data2.append( [i['ret'], int(i['data'])])    \n",
    "data2"
   ]
  },
  {
   "cell_type": "code",
   "execution_count": 30,
   "id": "fa9389cc-6f6d-439d-b261-f8028a94e555",
   "metadata": {},
   "outputs": [],
   "source": [
    "import csv\n",
    "\n",
    "# 저장위치, w, r, a, utf-8, euc-kr\n",
    "file = open('csv/20210518_1103.csv', 'w', \n",
    "            encoding='utf-8', newline='')\n",
    "wr = csv.writer(file)\n",
    "\n",
    "wr.writerow(['ret', 'data'])\n",
    "for i in data2:\n",
    "    wr.writerow(i)\n",
    "    \n",
    "file.close()"
   ]
  },
  {
   "cell_type": "code",
   "execution_count": 31,
   "id": "74913c6d-cb97-41cd-8b7a-6663e4fa0454",
   "metadata": {},
   "outputs": [
    {
     "name": "stdout",
     "output_type": "stream",
     "text": [
      "['y1', '123']\n",
      "['y2', '234']\n"
     ]
    }
   ],
   "source": [
    "import csv\n",
    "\n",
    "# 읽을위치, w, r, a, utf-8, euc-kr\n",
    "file = open('csv/20210518_1103.csv', 'r',  encoding='utf-8', newline='')\n",
    "rd = csv.reader(file)\n",
    "next(rd, None) #한줄 skip\n",
    "for i in rd:\n",
    "    print(i)\n",
    "    \n",
    "file.close()    "
   ]
  },
  {
   "cell_type": "code",
   "execution_count": 35,
   "id": "62da19eb-b13a-44de-8f2b-678607a519f7",
   "metadata": {},
   "outputs": [
    {
     "name": "stdout",
     "output_type": "stream",
     "text": [
      "{'id': 'a', 'name': '가나다1', 'age': 61, 'height': 165.4, 'weight': 60.2}\n",
      "{'id': 'b', 'name': '가나다2', 'age': 32, 'height': 185.4, 'weight': 80.3}\n",
      "{'id': 'c', 'name': '가나다3', 'age': 13, 'height': 145.8, 'weight': 60.6}\n",
      "{'id': 'd', 'name': '가나다4', 'age': 44, 'height': 165.7, 'weight': 44.5}\n",
      "{'id': 'e', 'name': '가나다5', 'age': 85, 'height': 165.2, 'weight': 42.3}\n"
     ]
    }
   ],
   "source": [
    "import requests\n",
    "import json\n",
    "import csv\n",
    "\n",
    "url = \"http://ihongss.com/json/exam7.json\"\n",
    "data = requests.get(url).text\n",
    "data1 = json.loads(data)\n",
    "\n",
    "a = []\n",
    "for i in data1[\"data\"]:\n",
    "    print(i) \n",
    "    #{'id': 'a', 'name': '가나다1', 'age': 61, 'height': 165.4, 'weight': 60.2}\n",
    "    a.append([ i.get('id'), i.get('name'),i.get(\"age\"), i.get(\"height\"), i.get(\"weight\")])\n",
    "    \n",
    "file = open('csv/20210518_ex01.csv', 'w', encoding='utf-8', newline='')\n",
    "wr = csv.writer(file)\n",
    "wr.writerow(['id', 'name', \"age\", \"height\",\"weight\"])\n",
    "for i in a:\n",
    "    wr.writerow(i)\n",
    "    \n",
    "file.close()"
   ]
  },
  {
   "cell_type": "code",
   "execution_count": 38,
   "id": "e35ef77f-e65c-4a6b-9dac-216383ee9a4b",
   "metadata": {},
   "outputs": [
    {
     "name": "stdout",
     "output_type": "stream",
     "text": [
      "{\"ret\":\"y\",\"data\":[{\"id\":\"a\",\"name\":\"가나다1\",\"age\":61,\"height\":165.4,\"weight\":60.2},{\"id\":\"b\",\"name\":\"가나다2\",\"age\":32,\"height\":185.4,\"weight\":80.3},{\"id\":\"c\",\"name\":\"가나다3\",\"age\":13,\"height\":145.8,\"weight\":60.6},{\"id\":\"d\",\"name\":\"가나다4\",\"age\":44,\"height\":165.7,\"weight\":44.5},{\"id\":\"e\",\"name\":\"가나다5\",\"age\":85,\"height\":165.2,\"weight\":42.3}]}\n",
      "<class 'str'>\n",
      "{'ret': 'y', 'data': [{'id': 'a', 'name': '가나다1', 'age': 61, 'height': 165.4, 'weight': 60.2}, {'id': 'b', 'name': '가나다2', 'age': 32, 'height': 185.4, 'weight': 80.3}, {'id': 'c', 'name': '가나다3', 'age': 13, 'height': 145.8, 'weight': 60.6}, {'id': 'd', 'name': '가나다4', 'age': 44, 'height': 165.7, 'weight': 44.5}, {'id': 'e', 'name': '가나다5', 'age': 85, 'height': 165.2, 'weight': 42.3}]}\n",
      "<class 'dict'>\n"
     ]
    }
   ],
   "source": [
    "import requests\n",
    "import json\n",
    "\n",
    "url = \"http://ihongss.com/json/exam7.json\"\n",
    "data = requests.get(url).text\n",
    "print(data)\n",
    "print(type(data))\n",
    "\n",
    "#str -> list\n",
    "data1 = json.loads(data)\n",
    "print(data1)\n",
    "print(type(data1))"
   ]
  }
 ],
 "metadata": {
  "kernelspec": {
   "display_name": "Python 3",
   "language": "python",
   "name": "python3"
  },
  "language_info": {
   "codemirror_mode": {
    "name": "ipython",
    "version": 3
   },
   "file_extension": ".py",
   "mimetype": "text/x-python",
   "name": "python",
   "nbconvert_exporter": "python",
   "pygments_lexer": "ipython3",
   "version": "3.8.8"
  }
 },
 "nbformat": 4,
 "nbformat_minor": 5
}
